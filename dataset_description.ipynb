{
 "cells": [
  {
   "cell_type": "code",
   "execution_count": 2,
   "id": "4fb746f0",
   "metadata": {},
   "outputs": [
    {
     "name": "stdout",
     "output_type": "stream",
     "text": [
      "Requirement already satisfied: pandas in c:\\apps\\python\\lib\\site-packages (1.4.2)\n",
      "Requirement already satisfied: pytz>=2020.1 in c:\\apps\\python\\lib\\site-packages (from pandas) (2022.1)\n",
      "Requirement already satisfied: numpy>=1.21.0 in c:\\apps\\python\\lib\\site-packages (from pandas) (1.22.3)\n",
      "Requirement already satisfied: python-dateutil>=2.8.1 in c:\\apps\\python\\lib\\site-packages (from pandas) (2.8.2)\n",
      "Requirement already satisfied: six>=1.5 in c:\\apps\\python\\lib\\site-packages (from python-dateutil>=2.8.1->pandas) (1.16.0)\n",
      "Collecting matplotlib\n",
      "  Downloading matplotlib-3.5.1-cp310-cp310-win_amd64.whl (7.2 MB)\n",
      "     ---------------------------------------- 7.2/7.2 MB 419.6 kB/s eta 0:00:00\n",
      "Collecting pillow>=6.2.0\n",
      "  Downloading Pillow-9.1.0-cp310-cp310-win_amd64.whl (3.3 MB)\n",
      "     ---------------------------------------- 3.3/3.3 MB 1.3 MB/s eta 0:00:00\n",
      "Collecting kiwisolver>=1.0.1\n",
      "  Downloading kiwisolver-1.4.2-cp310-cp310-win_amd64.whl (55 kB)\n",
      "     ---------------------------------------- 55.3/55.3 KB 1.5 MB/s eta 0:00:00\n",
      "Collecting cycler>=0.10\n",
      "  Downloading cycler-0.11.0-py3-none-any.whl (6.4 kB)\n",
      "Collecting fonttools>=4.22.0\n",
      "  Downloading fonttools-4.31.2-py3-none-any.whl (899 kB)\n",
      "     -------------------------------------- 899.5/899.5 KB 2.1 MB/s eta 0:00:00\n",
      "Requirement already satisfied: numpy>=1.17 in c:\\apps\\python\\lib\\site-packages (from matplotlib) (1.22.3)\n",
      "Requirement already satisfied: python-dateutil>=2.7 in c:\\apps\\python\\lib\\site-packages (from matplotlib) (2.8.2)\n",
      "Requirement already satisfied: packaging>=20.0 in c:\\apps\\python\\lib\\site-packages (from matplotlib) (21.3)\n",
      "Requirement already satisfied: pyparsing>=2.2.1 in c:\\apps\\python\\lib\\site-packages (from matplotlib) (3.0.7)\n",
      "Requirement already satisfied: six>=1.5 in c:\\apps\\python\\lib\\site-packages (from python-dateutil>=2.7->matplotlib) (1.16.0)\n",
      "Installing collected packages: pillow, kiwisolver, fonttools, cycler, matplotlib\n",
      "Successfully installed cycler-0.11.0 fonttools-4.31.2 kiwisolver-1.4.2 matplotlib-3.5.1 pillow-9.1.0\n"
     ]
    }
   ],
   "source": [
    "!pip install pandas\n",
    "!pip install matplotlib"
   ]
  },
  {
   "cell_type": "code",
   "execution_count": 10,
   "id": "a27075d8",
   "metadata": {},
   "outputs": [],
   "source": [
    "import pandas as pd\n",
    "import os\n",
    "montrealCrime = pd.read_csv(\"Montreal_Crime_Data.csv\")"
   ]
  },
  {
   "cell_type": "code",
   "execution_count": 11,
   "id": "1ce4432e",
   "metadata": {},
   "outputs": [
    {
     "data": {
      "text/html": [
       "<div>\n",
       "<style scoped>\n",
       "    .dataframe tbody tr th:only-of-type {\n",
       "        vertical-align: middle;\n",
       "    }\n",
       "\n",
       "    .dataframe tbody tr th {\n",
       "        vertical-align: top;\n",
       "    }\n",
       "\n",
       "    .dataframe thead th {\n",
       "        text-align: right;\n",
       "    }\n",
       "</style>\n",
       "<table border=\"1\" class=\"dataframe\">\n",
       "  <thead>\n",
       "    <tr style=\"text-align: right;\">\n",
       "      <th></th>\n",
       "      <th>Unnamed: 0</th>\n",
       "      <th>category</th>\n",
       "      <th>date</th>\n",
       "      <th>postal_code</th>\n",
       "      <th>city</th>\n",
       "      <th>neighbourhood</th>\n",
       "      <th>year</th>\n",
       "      <th>count</th>\n",
       "      <th>longitude</th>\n",
       "      <th>latitude</th>\n",
       "    </tr>\n",
       "  </thead>\n",
       "  <tbody>\n",
       "    <tr>\n",
       "      <th>0</th>\n",
       "      <td>0</td>\n",
       "      <td>Motor vehicle theft</td>\n",
       "      <td>2018-09-13</td>\n",
       "      <td>H1Z 1S9</td>\n",
       "      <td>MONTREAL</td>\n",
       "      <td>Saint-Michel</td>\n",
       "      <td>2018</td>\n",
       "      <td>1</td>\n",
       "      <td>-73.626</td>\n",
       "      <td>45.567</td>\n",
       "    </tr>\n",
       "    <tr>\n",
       "      <th>1</th>\n",
       "      <td>1</td>\n",
       "      <td>Motor vehicle theft</td>\n",
       "      <td>2018-04-30</td>\n",
       "      <td>H1Z 1S9</td>\n",
       "      <td>MONTREAL</td>\n",
       "      <td>Saint-Michel</td>\n",
       "      <td>2018</td>\n",
       "      <td>1</td>\n",
       "      <td>-73.626</td>\n",
       "      <td>45.567</td>\n",
       "    </tr>\n",
       "    <tr>\n",
       "      <th>2</th>\n",
       "      <td>2</td>\n",
       "      <td>Home Invasion</td>\n",
       "      <td>2018-01-10</td>\n",
       "      <td>H1Z 2V6</td>\n",
       "      <td>MONTREAL</td>\n",
       "      <td>Saint-Michel</td>\n",
       "      <td>2018</td>\n",
       "      <td>1</td>\n",
       "      <td>-73.629</td>\n",
       "      <td>45.569</td>\n",
       "    </tr>\n",
       "    <tr>\n",
       "      <th>3</th>\n",
       "      <td>3</td>\n",
       "      <td>Mischief</td>\n",
       "      <td>2018-11-12</td>\n",
       "      <td>H1Z 2V6</td>\n",
       "      <td>MONTREAL</td>\n",
       "      <td>Saint-Michel</td>\n",
       "      <td>2018</td>\n",
       "      <td>1</td>\n",
       "      <td>-73.629</td>\n",
       "      <td>45.569</td>\n",
       "    </tr>\n",
       "    <tr>\n",
       "      <th>4</th>\n",
       "      <td>4</td>\n",
       "      <td>Mischief</td>\n",
       "      <td>2018-08-15</td>\n",
       "      <td>H1Z 2V6</td>\n",
       "      <td>MONTREAL</td>\n",
       "      <td>Saint-Michel</td>\n",
       "      <td>2018</td>\n",
       "      <td>1</td>\n",
       "      <td>-73.629</td>\n",
       "      <td>45.569</td>\n",
       "    </tr>\n",
       "  </tbody>\n",
       "</table>\n",
       "</div>"
      ],
      "text/plain": [
       "   Unnamed: 0             category        date postal_code      city  \\\n",
       "0           0  Motor vehicle theft  2018-09-13     H1Z 1S9  MONTREAL   \n",
       "1           1  Motor vehicle theft  2018-04-30     H1Z 1S9  MONTREAL   \n",
       "2           2        Home Invasion  2018-01-10     H1Z 2V6  MONTREAL   \n",
       "3           3             Mischief  2018-11-12     H1Z 2V6  MONTREAL   \n",
       "4           4             Mischief  2018-08-15     H1Z 2V6  MONTREAL   \n",
       "\n",
       "  neighbourhood  year  count  longitude  latitude  \n",
       "0  Saint-Michel  2018      1    -73.626    45.567  \n",
       "1  Saint-Michel  2018      1    -73.626    45.567  \n",
       "2  Saint-Michel  2018      1    -73.629    45.569  \n",
       "3  Saint-Michel  2018      1    -73.629    45.569  \n",
       "4  Saint-Michel  2018      1    -73.629    45.569  "
      ]
     },
     "execution_count": 11,
     "metadata": {},
     "output_type": "execute_result"
    }
   ],
   "source": [
    "montrealCrime.head()"
   ]
  },
  {
   "cell_type": "code",
   "execution_count": 12,
   "id": "a7592ab0",
   "metadata": {},
   "outputs": [
    {
     "data": {
      "text/html": [
       "<div>\n",
       "<style scoped>\n",
       "    .dataframe tbody tr th:only-of-type {\n",
       "        vertical-align: middle;\n",
       "    }\n",
       "\n",
       "    .dataframe tbody tr th {\n",
       "        vertical-align: top;\n",
       "    }\n",
       "\n",
       "    .dataframe thead th {\n",
       "        text-align: right;\n",
       "    }\n",
       "</style>\n",
       "<table border=\"1\" class=\"dataframe\">\n",
       "  <thead>\n",
       "    <tr style=\"text-align: right;\">\n",
       "      <th></th>\n",
       "      <th>Unnamed: 0</th>\n",
       "      <th>category</th>\n",
       "      <th>date</th>\n",
       "      <th>postal_code</th>\n",
       "      <th>city</th>\n",
       "      <th>neighbourhood</th>\n",
       "      <th>year</th>\n",
       "      <th>count</th>\n",
       "      <th>longitude</th>\n",
       "      <th>latitude</th>\n",
       "    </tr>\n",
       "  </thead>\n",
       "  <tbody>\n",
       "    <tr>\n",
       "      <th>0</th>\n",
       "      <td>0</td>\n",
       "      <td>Motor vehicle theft</td>\n",
       "      <td>2018-09-13</td>\n",
       "      <td>H1Z 1S9</td>\n",
       "      <td>MONTREAL</td>\n",
       "      <td>Saint-Michel</td>\n",
       "      <td>2018</td>\n",
       "      <td>1</td>\n",
       "      <td>-73.626</td>\n",
       "      <td>45.567</td>\n",
       "    </tr>\n",
       "    <tr>\n",
       "      <th>1</th>\n",
       "      <td>1</td>\n",
       "      <td>Motor vehicle theft</td>\n",
       "      <td>2018-04-30</td>\n",
       "      <td>H1Z 1S9</td>\n",
       "      <td>MONTREAL</td>\n",
       "      <td>Saint-Michel</td>\n",
       "      <td>2018</td>\n",
       "      <td>1</td>\n",
       "      <td>-73.626</td>\n",
       "      <td>45.567</td>\n",
       "    </tr>\n",
       "    <tr>\n",
       "      <th>2</th>\n",
       "      <td>2</td>\n",
       "      <td>Home Invasion</td>\n",
       "      <td>2018-01-10</td>\n",
       "      <td>H1Z 2V6</td>\n",
       "      <td>MONTREAL</td>\n",
       "      <td>Saint-Michel</td>\n",
       "      <td>2018</td>\n",
       "      <td>1</td>\n",
       "      <td>-73.629</td>\n",
       "      <td>45.569</td>\n",
       "    </tr>\n",
       "    <tr>\n",
       "      <th>3</th>\n",
       "      <td>3</td>\n",
       "      <td>Mischief</td>\n",
       "      <td>2018-11-12</td>\n",
       "      <td>H1Z 2V6</td>\n",
       "      <td>MONTREAL</td>\n",
       "      <td>Saint-Michel</td>\n",
       "      <td>2018</td>\n",
       "      <td>1</td>\n",
       "      <td>-73.629</td>\n",
       "      <td>45.569</td>\n",
       "    </tr>\n",
       "    <tr>\n",
       "      <th>4</th>\n",
       "      <td>4</td>\n",
       "      <td>Mischief</td>\n",
       "      <td>2018-08-15</td>\n",
       "      <td>H1Z 2V6</td>\n",
       "      <td>MONTREAL</td>\n",
       "      <td>Saint-Michel</td>\n",
       "      <td>2018</td>\n",
       "      <td>1</td>\n",
       "      <td>-73.629</td>\n",
       "      <td>45.569</td>\n",
       "    </tr>\n",
       "    <tr>\n",
       "      <th>5</th>\n",
       "      <td>5</td>\n",
       "      <td>Home Invasion</td>\n",
       "      <td>2018-01-11</td>\n",
       "      <td>H1Z 2V6</td>\n",
       "      <td>MONTREAL</td>\n",
       "      <td>Saint-Michel</td>\n",
       "      <td>2018</td>\n",
       "      <td>1</td>\n",
       "      <td>-73.629</td>\n",
       "      <td>45.569</td>\n",
       "    </tr>\n",
       "    <tr>\n",
       "      <th>6</th>\n",
       "      <td>6</td>\n",
       "      <td>Home Invasion</td>\n",
       "      <td>2018-01-10</td>\n",
       "      <td>H1Z 2V6</td>\n",
       "      <td>MONTREAL</td>\n",
       "      <td>Saint-Michel</td>\n",
       "      <td>2018</td>\n",
       "      <td>1</td>\n",
       "      <td>-73.629</td>\n",
       "      <td>45.569</td>\n",
       "    </tr>\n",
       "    <tr>\n",
       "      <th>7</th>\n",
       "      <td>7</td>\n",
       "      <td>Home Invasion</td>\n",
       "      <td>2018-01-10</td>\n",
       "      <td>H1Z 2V6</td>\n",
       "      <td>MONTREAL</td>\n",
       "      <td>Saint-Michel</td>\n",
       "      <td>2018</td>\n",
       "      <td>1</td>\n",
       "      <td>-73.629</td>\n",
       "      <td>45.569</td>\n",
       "    </tr>\n",
       "    <tr>\n",
       "      <th>8</th>\n",
       "      <td>8</td>\n",
       "      <td>Home Invasion</td>\n",
       "      <td>2018-01-08</td>\n",
       "      <td>H1Z 2V6</td>\n",
       "      <td>MONTREAL</td>\n",
       "      <td>Saint-Michel</td>\n",
       "      <td>2018</td>\n",
       "      <td>1</td>\n",
       "      <td>-73.629</td>\n",
       "      <td>45.569</td>\n",
       "    </tr>\n",
       "    <tr>\n",
       "      <th>9</th>\n",
       "      <td>9</td>\n",
       "      <td>Home Invasion</td>\n",
       "      <td>2018-09-14</td>\n",
       "      <td>H1Z 2V6</td>\n",
       "      <td>MONTREAL</td>\n",
       "      <td>Saint-Michel</td>\n",
       "      <td>2018</td>\n",
       "      <td>1</td>\n",
       "      <td>-73.629</td>\n",
       "      <td>45.569</td>\n",
       "    </tr>\n",
       "  </tbody>\n",
       "</table>\n",
       "</div>"
      ],
      "text/plain": [
       "   Unnamed: 0             category        date postal_code      city  \\\n",
       "0           0  Motor vehicle theft  2018-09-13     H1Z 1S9  MONTREAL   \n",
       "1           1  Motor vehicle theft  2018-04-30     H1Z 1S9  MONTREAL   \n",
       "2           2        Home Invasion  2018-01-10     H1Z 2V6  MONTREAL   \n",
       "3           3             Mischief  2018-11-12     H1Z 2V6  MONTREAL   \n",
       "4           4             Mischief  2018-08-15     H1Z 2V6  MONTREAL   \n",
       "5           5        Home Invasion  2018-01-11     H1Z 2V6  MONTREAL   \n",
       "6           6        Home Invasion  2018-01-10     H1Z 2V6  MONTREAL   \n",
       "7           7        Home Invasion  2018-01-10     H1Z 2V6  MONTREAL   \n",
       "8           8        Home Invasion  2018-01-08     H1Z 2V6  MONTREAL   \n",
       "9           9        Home Invasion  2018-09-14     H1Z 2V6  MONTREAL   \n",
       "\n",
       "  neighbourhood  year  count  longitude  latitude  \n",
       "0  Saint-Michel  2018      1    -73.626    45.567  \n",
       "1  Saint-Michel  2018      1    -73.626    45.567  \n",
       "2  Saint-Michel  2018      1    -73.629    45.569  \n",
       "3  Saint-Michel  2018      1    -73.629    45.569  \n",
       "4  Saint-Michel  2018      1    -73.629    45.569  \n",
       "5  Saint-Michel  2018      1    -73.629    45.569  \n",
       "6  Saint-Michel  2018      1    -73.629    45.569  \n",
       "7  Saint-Michel  2018      1    -73.629    45.569  \n",
       "8  Saint-Michel  2018      1    -73.629    45.569  \n",
       "9  Saint-Michel  2018      1    -73.629    45.569  "
      ]
     },
     "execution_count": 12,
     "metadata": {},
     "output_type": "execute_result"
    }
   ],
   "source": [
    "montrealCrime.head(10)"
   ]
  },
  {
   "cell_type": "code",
   "execution_count": 13,
   "id": "22e3b4bc",
   "metadata": {
    "scrolled": false
   },
   "outputs": [
    {
     "data": {
      "text/plain": [
       "-73.60744255792508"
      ]
     },
     "execution_count": 13,
     "metadata": {},
     "output_type": "execute_result"
    }
   ],
   "source": [
    "# Durchscnnitt von der Längengrad berechnen\n",
    "montrealCrime[\"longitude\"].mean()"
   ]
  },
  {
   "cell_type": "code",
   "execution_count": 14,
   "id": "eaa8b0c5",
   "metadata": {},
   "outputs": [
    {
     "data": {
      "text/plain": [
       "45.52961819938233"
      ]
     },
     "execution_count": 14,
     "metadata": {},
     "output_type": "execute_result"
    }
   ],
   "source": [
    "# Durchschnitt von der Breitengrad berechnen\n",
    "montrealCrime[\"latitude\"].mean()"
   ]
  },
  {
   "cell_type": "code",
   "execution_count": 15,
   "id": "3f6bb763",
   "metadata": {},
   "outputs": [
    {
     "data": {
      "text/plain": [
       "0    2015\n",
       "Name: year, dtype: int64"
      ]
     },
     "execution_count": 15,
     "metadata": {},
     "output_type": "execute_result"
    }
   ],
   "source": [
    "# Jahrgang, welcher am meisten Straftaten begangen wurden.\n",
    "montrealCrime[\"year\"].mode()"
   ]
  },
  {
   "cell_type": "code",
   "execution_count": 16,
   "id": "6f5aaf47",
   "metadata": {
    "scrolled": true
   },
   "outputs": [
    {
     "data": {
      "text/plain": [
       "0    Home Invasion\n",
       "Name: category, dtype: object"
      ]
     },
     "execution_count": 16,
     "metadata": {},
     "output_type": "execute_result"
    }
   ],
   "source": [
    "# Welcher Strafttat wurde am meisten begangen.\n",
    "montrealCrime[\"category\"].mode()"
   ]
  },
  {
   "cell_type": "code",
   "execution_count": 100,
   "id": "cbde91c2",
   "metadata": {},
   "outputs": [
    {
     "data": {
      "image/png": "[encoded data removed]",
      "text/plain": [
       "<Figure size 432x288 with 1 Axes>"
      ]
     },
     "metadata": {},
     "output_type": "display_data"
    }
   ],
   "source": [
    "import matplotlib.pyplot as plt\n",
    "with plt.xkcd():\n",
    "    \n",
    "    plt.hist(montrealCrime[\"category\"].dropna(), bins=range(0,6,1))\n",
    "    plt.title(\"Kriminalität\")\n",
    "    plt.xlabel(\"Straftat Typ\")\n",
    "    plt.ylabel(\"Häufigkeit\")"
   ]
  },
  {
   "cell_type": "code",
   "execution_count": 106,
   "id": "f57ea4a4",
   "metadata": {},
   "outputs": [
    {
     "data": {
      "text/plain": [
       "count    136642.000000\n",
       "mean          0.737336\n",
       "std           0.141660\n",
       "min           0.000000\n",
       "25%           0.687117\n",
       "50%           0.770961\n",
       "75%           0.824131\n",
       "max           1.000000\n",
       "Name: age_normalised, dtype: float64"
      ]
     },
     "execution_count": 106,
     "metadata": {},
     "output_type": "execute_result"
    }
   ],
   "source": [
    "mc = montrealCrime[\"longitude\"]\n",
    "montrealCrime[\"age_normalised\"] = (mc-mc.min())/(mc.max()-mc.min())\n",
    "montrealCrime[\"age_normalised\"].describe()"
   ]
  },
  {
   "cell_type": "markdown",
   "id": "d8ddf690",
   "metadata": {},
   "source": [
    "# 2.4 Skalieren Sie mindestens ein Datenfeld; oder argumentieren Sie in weiteren 50 bis 100 Wörtern in Ihrem Notizbuch, warum dies bei Ihrem Datensatz nicht sinnvoll ist\n",
    "\n",
    "Bei meinen Datensatz kann ich nicht skalieren, weil es zu wenig numerische daten beinhaltet. Bei Jahreszahlen macht es keinen Sinn, weil es jeder weiss, dass nach 2021 das Jahr 2022 und dann 2023 etc. kommt. Bei Längen- und Breitengraden hat es ebenso keinen Nutzen, da man Koordinaten nicht voraussagen kann. "
   ]
  },
  {
   "cell_type": "code",
   "execution_count": null,
   "id": "7173d9cb",
   "metadata": {},
   "outputs": [],
   "source": []
  }
 ],
 "metadata": {
  "kernelspec": {
   "display_name": "Python 3 (ipykernel)",
   "language": "python",
   "name": "python3"
  },
  "language_info": {
   "codemirror_mode": {
    "name": "ipython",
    "version": 3
   },
   "file_extension": ".py",
   "mimetype": "text/x-python",
   "name": "python",
   "nbconvert_exporter": "python",
   "pygments_lexer": "ipython3",
   "version": "3.10.2"
  }
 },
 "nbformat": 4,
 "nbformat_minor": 5
}
